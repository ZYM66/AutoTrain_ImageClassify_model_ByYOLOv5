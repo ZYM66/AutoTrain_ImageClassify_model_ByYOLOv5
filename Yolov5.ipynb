{
  "nbformat": 4,
  "nbformat_minor": 0,
  "metadata": {
    "colab": {
      "private_outputs": true,
      "provenance": [],
      "authorship_tag": "ABX9TyNDksekOwgwvOei1yMTbnW3",
      "include_colab_link": true
    },
    "kernelspec": {
      "name": "python3",
      "display_name": "Python 3"
    },
    "language_info": {
      "name": "python"
    },
    "accelerator": "GPU",
    "gpuClass": "standard"
  },
  "cells": [
    {
      "cell_type": "markdown",
      "metadata": {
        "id": "view-in-github",
        "colab_type": "text"
      },
      "source": [
        "<a href=\"https://colab.research.google.com/github/ZYM66/AutoTrain_ImageClassify_model_ByYOLOv5/blob/master/Yolov5.ipynb\" target=\"_parent\"><img src=\"https://colab.research.google.com/assets/colab-badge.svg\" alt=\"Open In Colab\"/></a>"
      ]
    },
    {
      "cell_type": "code",
      "source": [
        "from google.colab import drive\n",
        "drive.mount('/content/drive')"
      ],
      "metadata": {
        "id": "tH5coHOzAHIn"
      },
      "execution_count": null,
      "outputs": []
    },
    {
      "cell_type": "code",
      "source": [
        "import requests\n",
        "from PIL import Image, UnidentifiedImageError\n",
        "from requests.exceptions import HTTPError\n",
        "from io import BytesIO\n",
        "from pathlib import Path\n",
        "import shutil\n",
        "from torchvision.datasets import ImageFolder\n",
        "import math\n",
        "import torch\n",
        "import matplotlib.pyplot as plt\n",
        "import os"
      ],
      "metadata": {
        "id": "LbjXGd-EAklO"
      },
      "execution_count": null,
      "outputs": []
    },
    {
      "cell_type": "code",
      "source": [
        "os.makedirs(\"/content/drive/MyDrive/yolov5/\", exist_ok=True)"
      ],
      "metadata": {
        "id": "t91GBzElAuH7"
      },
      "execution_count": null,
      "outputs": []
    },
    {
      "cell_type": "code",
      "source": [
        "%cd /content/drive/MyDrive/yolov5/"
      ],
      "metadata": {
        "id": "2NXqBPhRcOx_"
      },
      "execution_count": null,
      "outputs": []
    },
    {
      "cell_type": "code",
      "source": [
        "!git clone https://github.com/ultralytics/yolov5.git"
      ],
      "metadata": {
        "id": "5dH_ul9SbmrY"
      },
      "execution_count": null,
      "outputs": []
    },
    {
      "cell_type": "code",
      "source": [
        "%cd yolov5"
      ],
      "metadata": {
        "id": "yefsCcU1EIi7"
      },
      "execution_count": null,
      "outputs": []
    },
    {
      "cell_type": "code",
      "source": [
        "SEARCH_URL = \"https://huggingface.co/api/experimental/images/search\"\n",
        "\n",
        "def get_image_urls_by_term(search_term: str, count=150):\n",
        "    params  = {\"q\": search_term, \"license\": \"All\", \"imageType\": \"photo\", \"count\": count, \"setLang\": \"zh-hans\", \"mkt\": \"zh-CN\"}\n",
        "    response = requests.get(SEARCH_URL, params=params)\n",
        "    response.raise_for_status()\n",
        "    response_data = response.json()\n",
        "    image_urls = [img['thumbnailUrl'] for img in response_data['value']]\n",
        "    return image_urls\n",
        "\n",
        "\n",
        "def gen_images_from_urls(urls):\n",
        "    num_skipped = 0\n",
        "    for url in urls:\n",
        "        response = requests.get(url)\n",
        "        if not response.status_code == 200:\n",
        "            num_skipped += 1\n",
        "        try:\n",
        "            img = Image.open(BytesIO(response.content))\n",
        "            yield img\n",
        "        except UnidentifiedImageError:\n",
        "            num_skipped +=1\n",
        "\n",
        "    print(f\"Retrieved {len(urls) - num_skipped} images. Skipped {num_skipped}.\")\n",
        "\n",
        "\n",
        "def urls_to_image_folder(urls, save_directory):\n",
        "    for i, image in enumerate(gen_images_from_urls(urls)):\n",
        "        image.save(save_directory / f'{i}.jpg')"
      ],
      "metadata": {
        "id": "Ccs58JuFFlSw"
      },
      "execution_count": null,
      "outputs": []
    },
    {
      "cell_type": "markdown",
      "source": [
        "- 在下方写下要进行分类的名称(会自动组建数据集进行训练)"
      ],
      "metadata": {
        "id": "R3u7imd_9HAD"
      }
    },
    {
      "cell_type": "code",
      "source": [
        "search_terms = [\"郁金香\", \"月季\", \"红玫瑰\", \"白玫瑰\", \"绿萝\", \"蝴蝶兰 \", \"康乃馨\", \"杜鹃花\", \"万年青\", \"薰衣草\", \"水仙花\", \"梅花\", \"马蹄莲\", \"君子兰\", \"金银花\", \"鸢尾花\", \"百合花\", \"昙花\", \"天竺葵\", \"牡丹花\"]"
      ],
      "metadata": {
        "id": "N-VAvayfHAYl"
      },
      "execution_count": null,
      "outputs": []
    },
    {
      "cell_type": "code",
      "source": [
        "data_dir = Path('images')\n",
        "\n",
        "if data_dir.exists():\n",
        "  shutil.rmtree(data_dir)\n",
        "\n",
        "for search_term in search_terms:\n",
        "  search_term_dir = data_dir / search_term\n",
        "  search_term_dir.mkdir(exist_ok=True, parents=True)\n",
        "  urls = get_image_urls_by_term(search_term, count=300)\n",
        "  print(f\"Saving images of {search_term} to {str(search_term_dir)}...\")\n",
        "  urls_to_image_folder(urls, search_term_dir)"
      ],
      "metadata": {
        "id": "Pq8EzU4MGbme"
      },
      "execution_count": null,
      "outputs": []
    },
    {
      "cell_type": "code",
      "source": [
        "# 生成数据集函数\n",
        "def split(data_dir, to_dir, dataset_name, n_val_rate=0.15):\n",
        "  ds = ImageFolder(data_dir)\n",
        "  indices = torch.randperm(len(ds)).tolist()\n",
        "  n_val = math.floor(len(indices) * n_val_rate)\n",
        "  train_ds = torch.utils.data.Subset(ds, indices[:-n_val])\n",
        "  val_ds = torch.utils.data.Subset(ds, indices[-n_val:])\n",
        "  place = os.path.join(to_dir, dataset_name)\n",
        "  if os.path.exists(place):\n",
        "    shutil.rmtree(place)\n",
        "  else:\n",
        "    os.makedirs(place)\n",
        "  train_place = os.path.join(place, \"train\")\n",
        "  val_place = os.path.join(place, \"val\")\n",
        "  os.makedirs(train_place)\n",
        "  os.makedirs(val_place)\n",
        "  for cls in os.listdir(data_dir):\n",
        "    cls_tain_place = os.path.join(train_place, cls)\n",
        "    cls_val_place = os.path.join(val_place, cls)\n",
        "    os.makedirs(cls_tain_place)\n",
        "    os.makedirs(cls_val_place)\n",
        "    \n",
        "    for train in train_ds.indices:\n",
        "      pic_name = str(train) + \".jpg\"\n",
        "      row_cls_place = os.path.join(data_dir, cls)\n",
        "      pic_place = os.path.join(row_cls_place, pic_name)\n",
        "      if os.path.exists(pic_place):\n",
        "        shutil.copy(pic_place, cls_tain_place)\n",
        "\n",
        "    for val in val_ds.indices:\n",
        "      pic_name = str(val) + \".jpg\"\n",
        "      row_cls_place = os.path.join(data_dir, cls)\n",
        "      pic_place = os.path.join(row_cls_place, pic_name)\n",
        "      if os.path.exists(pic_place):\n",
        "        shutil.copy(pic_place, cls_val_place)"
      ],
      "metadata": {
        "id": "BdbJQj3mLZ9a"
      },
      "execution_count": null,
      "outputs": []
    },
    {
      "cell_type": "code",
      "source": [
        "split(\"/content/drive/MyDrive/yolov5/yolov5/images\", \"/content/drive/MyDrive/yolov5/datasets\", \"flower\")"
      ],
      "metadata": {
        "id": "MxtJordTdZ_C"
      },
      "execution_count": null,
      "outputs": []
    },
    {
      "cell_type": "code",
      "source": [
        "!python classify/train.py --model yolov5s-cls.pt --data \"/content/drive/MyDrive/yolov5/datasets/flower\" --epoch 10 --img 224"
      ],
      "metadata": {
        "id": "Rn7uJ8i9MrTr"
      },
      "execution_count": null,
      "outputs": []
    }
  ]
}